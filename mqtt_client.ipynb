{
 "cells": [
  {
   "cell_type": "markdown",
   "metadata": {},
   "source": [
    "### MQTT Client to control neopixel light"
   ]
  },
  {
   "cell_type": "markdown",
   "metadata": {},
   "source": [
    "### 要用到paho來傳mqtt message\n",
    "\n",
    "- install: `pip install paho-mqtt`\n"
   ]
  },
  {
   "cell_type": "markdown",
   "metadata": {},
   "source": [
    "- 兩色交替閃爍"
   ]
  },
  {
   "cell_type": "code",
   "execution_count": null,
   "metadata": {},
   "outputs": [],
   "source": [
    "#!/usr/bin/python\n",
    "# -*- coding: utf-8 -*-\n",
    "import paho.mqtt.client as mqtt  #import the client1\n",
    "import time\n",
    "\n",
    "import time\n",
    "from struct import *\n",
    "import random\n",
    "import json\n",
    "\n",
    "def on_connect(client, userdata, flags, rc):\n",
    "    m=\"Connected flags\"+str(flags)+\", result code \"+str(rc)+\", client_id  \"+str(client)\n",
    "    print(m)\n",
    "\n",
    "# some online free broker:\n",
    "#   iot.eclipse.org\n",
    "#   test.mosquitto.org\n",
    "#   broker.hivemq.com\n",
    "broker_address = \"broker.hivemq.com\"\n",
    "TOPIC_BASE = 'pochang/iot'\n",
    "topic_light = TOPIC_BASE+\"/light\"\n",
    "topic_neopixel = TOPIC_BASE+\"/neopixel\"\n",
    "\n",
    "client1 = mqtt.Client()    #create new instance\n",
    "client1.on_connect = on_connect        #attach function to callback\n",
    "\n",
    "time.sleep(1)\n",
    "client1.connect(broker_address, 1883, 60)      #connect to broker\n",
    "\n",
    "#client1.loop_forever()\n",
    "# 有自己的while loop，所以call loop_start()，不用loop_forever\n",
    "client1.loop_start()    #start the loop\n",
    "time.sleep(2)\n",
    "print(\"loop start\")\n",
    "\n",
    "while True:\n",
    "    \n",
    "    neo_cmd = {'light': [[0,10,10]]*8, 'delay':0.5}\n",
    "    neo_cmd = json.dumps(neo_cmd)\n",
    "    print('cmd: ', neo_cmd)\n",
    "    client1.publish(topic_neopixel, neo_cmd)\n",
    "    time.sleep(2)\n",
    "\n",
    "    neo_cmd = {'light': [[10,0,0]]*8, 'delay':0.5}\n",
    "    neo_cmd = json.dumps(neo_cmd)\n",
    "    print('cmd: ', neo_cmd)\n",
    "    client1.publish(topic_neopixel, neo_cmd)\n",
    "    time.sleep(2)\n",
    "    "
   ]
  },
  {
   "cell_type": "markdown",
   "metadata": {},
   "source": [
    "## neo-light flow~"
   ]
  },
  {
   "cell_type": "code",
   "execution_count": null,
   "metadata": {},
   "outputs": [],
   "source": [
    "#!/usr/bin/python\n",
    "# -*- coding: utf-8 -*-\n",
    "import paho.mqtt.client as mqtt  #import the client1\n",
    "import time\n",
    "\n",
    "import time\n",
    "from struct import *\n",
    "import random\n",
    "import json\n",
    "\n",
    "def on_connect(client, userdata, flags, rc):\n",
    "    m=\"Connected flags\"+str(flags)+\", result code \"+str(rc)+\", client_id  \"+str(client)\n",
    "    print(m)\n",
    "\n",
    "# some online free broker:\n",
    "#   iot.eclipse.org\n",
    "#   test.mosquitto.org\n",
    "#   broker.hivemq.com\n",
    "broker_address = \"broker.hivemq.com\"\n",
    "TOPIC_BASE = 'pochang/iot'\n",
    "topic_light = TOPIC_BASE+\"/light\"\n",
    "topic_neopixel = TOPIC_BASE+\"/neopixel\"\n",
    "\n",
    "client1 = mqtt.Client()    #create new instance\n",
    "client1.on_connect = on_connect        #attach function to callback\n",
    "\n",
    "time.sleep(1)\n",
    "client1.connect(broker_address, 1883, 60)      #connect to broker\n",
    "\n",
    "#client1.loop_forever()\n",
    "# 有自己的while loop，所以call loop_start()，不用loop_forever\n",
    "client1.loop_start()    #start the loop\n",
    "time.sleep(2)\n",
    "print(\"loop start\")\n",
    "idx = 0\n",
    "while True:\n",
    "    idx+=1\n",
    "    \n",
    "    neo_light = [ [0,0,0] ]*8\n",
    "    v = 5\n",
    "    for i in range(1, 5):\n",
    "        neo_light[(idx+i)%8] = [v*i, 0, v*i]\n",
    "    neo_cmd = {'light': neo_light, 'delay':0}\n",
    "    neo_cmd = json.dumps(neo_cmd)\n",
    "    print('cmd: ', neo_cmd)\n",
    "    client1.publish(topic_neopixel, neo_cmd)\n",
    "    time.sleep(0.5)\n"
   ]
  },
  {
   "cell_type": "code",
   "execution_count": null,
   "metadata": {},
   "outputs": [],
   "source": []
  }
 ],
 "metadata": {
  "kernelspec": {
   "display_name": "Python 3",
   "language": "python",
   "name": "python3"
  },
  "language_info": {
   "codemirror_mode": {
    "name": "ipython",
    "version": 3
   },
   "file_extension": ".py",
   "mimetype": "text/x-python",
   "name": "python",
   "nbconvert_exporter": "python",
   "pygments_lexer": "ipython3",
   "version": "3.7.0"
  }
 },
 "nbformat": 4,
 "nbformat_minor": 4
}
