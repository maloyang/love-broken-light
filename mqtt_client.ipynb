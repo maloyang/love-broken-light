{
 "cells": [
  {
   "cell_type": "markdown",
   "metadata": {},
   "source": [
    "### MQTT Client to control neopixel light"
   ]
  },
  {
   "cell_type": "markdown",
   "metadata": {},
   "source": [
    "### 要用到paho來傳mqtt message\n",
    "\n",
    "- install: `pip install paho-mqtt`\n"
   ]
  },
  {
   "cell_type": "markdown",
   "metadata": {},
   "source": [
    "- 兩色交替閃爍"
   ]
  },
  {
   "cell_type": "code",
   "execution_count": null,
   "metadata": {},
   "outputs": [],
   "source": [
    "#!/usr/bin/python\n",
    "# -*- coding: utf-8 -*-\n",
    "import paho.mqtt.client as mqtt  #import the client1\n",
    "import time\n",
    "\n",
    "import time\n",
    "from struct import *\n",
    "import random\n",
    "import json\n",
    "\n",
    "def on_connect(client, userdata, flags, rc):\n",
    "    m=\"Connected flags\"+str(flags)+\", result code \"+str(rc)+\", client_id  \"+str(client)\n",
    "    print(m)\n",
    "\n",
    "# some online free broker:\n",
    "#   iot.eclipse.org\n",
    "#   test.mosquitto.org\n",
    "#   broker.hivemq.com\n",
    "broker_address = \"broker.hivemq.com\"\n",
    "TOPIC_BASE = 'pochang/iot'\n",
    "topic_light = TOPIC_BASE+\"/light\"\n",
    "topic_neopixel = TOPIC_BASE+\"/neopixel\"\n",
    "\n",
    "client1 = mqtt.Client()    #create new instance\n",
    "client1.on_connect = on_connect        #attach function to callback\n",
    "\n",
    "time.sleep(1)\n",
    "client1.connect(broker_address, 1883, 60)      #connect to broker\n",
    "\n",
    "#client1.loop_forever()\n",
    "# 有自己的while loop，所以call loop_start()，不用loop_forever\n",
    "client1.loop_start()    #start the loop\n",
    "time.sleep(2)\n",
    "print(\"loop start\")\n",
    "\n",
    "while True:\n",
    "    \n",
    "    neo_cmd = {'light': [[0,10,10]]*8, 'delay':0.5}\n",
    "    neo_cmd = json.dumps(neo_cmd)\n",
    "    print('cmd: ', neo_cmd)\n",
    "    client1.publish(topic_neopixel, neo_cmd)\n",
    "    time.sleep(2)\n",
    "\n",
    "    neo_cmd = {'light': [[10,0,0]]*8, 'delay':0.5}\n",
    "    neo_cmd = json.dumps(neo_cmd)\n",
    "    print('cmd: ', neo_cmd)\n",
    "    client1.publish(topic_neopixel, neo_cmd)\n",
    "    time.sleep(2)\n",
    "    "
   ]
  },
  {
   "cell_type": "markdown",
   "metadata": {},
   "source": [
    "## neo-light flow~"
   ]
  },
  {
   "cell_type": "code",
   "execution_count": null,
   "metadata": {},
   "outputs": [],
   "source": [
    "#!/usr/bin/python\n",
    "# -*- coding: utf-8 -*-\n",
    "import paho.mqtt.client as mqtt  #import the client1\n",
    "import time\n",
    "\n",
    "import time\n",
    "from struct import *\n",
    "import random\n",
    "import json\n",
    "\n",
    "def on_connect(client, userdata, flags, rc):\n",
    "    m=\"Connected flags\"+str(flags)+\", result code \"+str(rc)+\", client_id  \"+str(client)\n",
    "    print(m)\n",
    "\n",
    "# some online free broker:\n",
    "#   iot.eclipse.org\n",
    "#   test.mosquitto.org\n",
    "#   broker.hivemq.com\n",
    "broker_address = \"broker.hivemq.com\"\n",
    "TOPIC_BASE = 'pochang/iot'\n",
    "topic_light = TOPIC_BASE+\"/light\"\n",
    "topic_neopixel = TOPIC_BASE+\"/neopixel\"\n",
    "\n",
    "client1 = mqtt.Client()    #create new instance\n",
    "client1.on_connect = on_connect        #attach function to callback\n",
    "\n",
    "time.sleep(1)\n",
    "client1.connect(broker_address, 1883, 60)      #connect to broker\n",
    "\n",
    "#client1.loop_forever()\n",
    "# 有自己的while loop，所以call loop_start()，不用loop_forever\n",
    "client1.loop_start()    #start the loop\n",
    "time.sleep(2)\n",
    "print(\"loop start\")\n",
    "idx = 0\n",
    "while True:\n",
    "    idx+=1\n",
    "    \n",
    "    neo_light = [ [0,0,0] ]*8\n",
    "    v = 5\n",
    "    for i in range(1, 5):\n",
    "        neo_light[(idx+i)%8] = [v*i, 0, v*i]\n",
    "    neo_cmd = {'light': neo_light, 'delay':0}\n",
    "    neo_cmd = json.dumps(neo_cmd)\n",
    "    print('cmd: ', neo_cmd)\n",
    "    client1.publish(topic_neopixel, neo_cmd)\n",
    "    time.sleep(0.5)\n"
   ]
  },
  {
   "cell_type": "code",
   "execution_count": null,
   "metadata": {},
   "outputs": [],
   "source": [
    "neo_cmd = {'neopixel': [[10,0,0]]*8, 'delay':0.5}\n",
    "neo_cmd = json.dumps(neo_cmd)\n",
    "print('cmd: ', neo_cmd)\n"
   ]
  },
  {
   "cell_type": "markdown",
   "metadata": {},
   "source": [
    "----\n"
   ]
  },
  {
   "cell_type": "markdown",
   "metadata": {},
   "source": [
    "### live demo\n",
    "\n",
    "- 以先架好的rpi3控制PLC為例\n"
   ]
  },
  {
   "cell_type": "code",
   "execution_count": null,
   "metadata": {},
   "outputs": [],
   "source": [
    "import paho.mqtt.client as mqtt  #import the client1\n",
    "import time\n",
    "\n",
    "import serial\n",
    "import modbus_tk\n",
    "import modbus_tk.defines as cst\n",
    "import modbus_tk.modbus_rtu as modbus_rtu\n",
    "import time\n",
    "\n",
    "mbComPort = 'COM5'\n",
    "baudrate = 9600\n",
    "databit = 8\n",
    "parity = 'N'\n",
    "stopbit = 1\n",
    "mbTimeout = 100 # ms\n",
    "\n",
    "def on_connect(client, userdata, flags, rc):\n",
    "    m=\"Connected flags\"+str(flags)+\", result code \"+str(rc)+\", client_id  \"+str(client)\n",
    "    print(m)\n",
    "\n",
    "    # first value OFF\n",
    "    print('set light off!')\n",
    "    control_light(0)\n",
    "    client1.publish(topic,0)    \n",
    "\n",
    "def on_message(client1, userdata, message):\n",
    "    print(\"message received  \"  ,str(message.payload.decode(\"utf-8\")), message.topic, message.qos, message.retain)\n",
    "    if message.topic == topic:\n",
    "        my_message = str(message.payload.decode(\"utf-8\"))\n",
    "        print(\"set light: \", my_message)\n",
    "        if my_message=='1' or my_message==1:\n",
    "            control_light(1)\n",
    "        else:\n",
    "            control_light(0)\n",
    "\n",
    "def on_log(client, userdata, level, buf):\n",
    "    print(\"log: \",buf)\n",
    "\n",
    "def control_light(value):\n",
    "    mb_port = serial.Serial(port=mbComPort, baudrate=baudrate, bytesize=databit, parity=parity, stopbits=stopbit)\n",
    "    master = modbus_rtu.RtuMaster(mb_port)\n",
    "    master.set_timeout(mbTimeout/1000.0)\n",
    "\n",
    "    mbId = 1\n",
    "    addr = 2 #base0\n",
    "\n",
    "    try:\n",
    "        #-- FC5: write multi-coils\n",
    "        rr = master.execute(mbId, cst.WRITE_SINGLE_COIL, addr, output_value=value)\n",
    "        print(\"Write(addr, value)=%s\" %(str(rr)))\n",
    "\n",
    "    except Exception as e:#except Exception, e:\n",
    "        print(\"modbus test Error: \" + str(e))\n",
    "\n",
    "    master._do_close()\n",
    "\n",
    "\n",
    "# some online free broker:\n",
    "#   iot.eclipse.org\n",
    "#   test.mosquitto.org\n",
    "#   broker.hivemq.com\n",
    "broker_address=\"iot.eclipse.org\"\n",
    "topic = \"malo-iot/light\"\n",
    "client1 = mqtt.Client()    #create new instance\n",
    "client1.on_connect = on_connect        #attach function to callback\n",
    "client1.on_message = on_message        #attach function to callback\n",
    "#client1.on_log=on_log\n",
    "\n",
    "time.sleep(1)\n",
    "client1.connect(\"iot.eclipse.org\", 1883, 60)      #connect to broker\n",
    "#client1.loop_start()    #start the loop\n",
    "client1.subscribe(topic)\n",
    "\n",
    "client1.loop_forever()"
   ]
  },
  {
   "cell_type": "markdown",
   "metadata": {},
   "source": [
    "----\n",
    "\n",
    "## Web API\n",
    "\n",
    "適合非即時性的應用\n",
    "\n",
    "----\n"
   ]
  },
  {
   "cell_type": "markdown",
   "metadata": {},
   "source": [
    "### 自己做restful API + PostgreSQL\n",
    "\n",
    "### firebase\n",
    "    \n",
    "- 上傳時一個Json帶入所有點位\n",
    "\n",
    "- 顯示資料時可一次一個點位處理\n",
    "\n",
    "- 改寫輸出值時一次一個點位更是方便\n",
    "\n",
    "### ThingSpeak\n",
    "\n",
    "- 上傳資料自動畫成趨勢圖\n"
   ]
  },
  {
   "cell_type": "markdown",
   "metadata": {},
   "source": [
    "----\n",
    "\n",
    "### 運用Firebase收集資料\n",
    "\n",
    "[demo](Firebase.ipynb): 要新增一個firebase的點，做台中.py課程臨時上傳用\n",
    "\n",
    "- firebase 套件安裝\n",
    "    - [link](https://pypi.org/project/python-firebase/)\n",
    "    - pip install python-firebase\n",
    "    \n",
    "- 不用套件的用法\n",
    "\n",
    "----\n"
   ]
  },
  {
   "cell_type": "code",
   "execution_count": null,
   "metadata": {},
   "outputs": [],
   "source": [
    "tag_name = '/tag_1'"
   ]
  },
  {
   "cell_type": "code",
   "execution_count": null,
   "metadata": {},
   "outputs": [],
   "source": [
    "from firebase import firebase\n",
    "import time\n",
    "\n",
    "my_firebase = firebase.FirebaseApplication('https://fire-test-c46d1.firebaseio.com', None)\n",
    "\n",
    "my_time = time.strftime(\"%Y-%m-%d %H:%M:%S\")\n",
    "my_data = {'data': {'T': 25, 'H': 65}, 'time': my_time}\n",
    "result = my_firebase.post(tag_name+'/log', my_data)\n",
    "print('post result=', result)\n",
    "\n",
    "result = my_firebase.put('', '/'+tag_name+'/rt', my_data)\n",
    "print('put result=', result)\n"
   ]
  },
  {
   "cell_type": "markdown",
   "metadata": {},
   "source": [
    "- 看一下：https://fire-test-c46d1.firebaseio.com/.json"
   ]
  },
  {
   "cell_type": "code",
   "execution_count": null,
   "metadata": {},
   "outputs": [],
   "source": [
    "from firebase import firebase\n",
    "import time\n",
    "\n",
    "my_firebase = firebase.FirebaseApplication('https://fire-test-c46d1.firebaseio.com', None)\n",
    "\n",
    "result = my_firebase.get(tag_name, None)\n",
    "result"
   ]
  },
  {
   "cell_type": "markdown",
   "metadata": {},
   "source": [
    "----\n",
    "\n",
    "### 運用 ThingSpeak收集資料\n",
    "\n",
    "demo\n",
    "\n",
    "----"
   ]
  },
  {
   "cell_type": "code",
   "execution_count": null,
   "metadata": {},
   "outputs": [],
   "source": [
    "# push data\n",
    "\n",
    "import requests\n",
    "\n",
    "# field1: T\n",
    "# field2: H\n",
    "url = 'https://api.thingspeak.com/update'\n",
    "api_key = 'RD1VBDRERV09LPV4'\n",
    "field1 = 24.58\n",
    "field2 = 63.11\n",
    "data = {'api_key': api_key, 'field1':field1, 'field2':field2}\n",
    "r = requests.get(url, params=data)\n",
    "r"
   ]
  },
  {
   "cell_type": "code",
   "execution_count": null,
   "metadata": {},
   "outputs": [],
   "source": [
    "r.text"
   ]
  },
  {
   "cell_type": "code",
   "execution_count": null,
   "metadata": {},
   "outputs": [],
   "source": [
    "# continue push data\n",
    "\n",
    "my_h = [65.46, 65.75, 62.49, 65.4, 65.89, 63.11]\n",
    "my_t = [25.05, 24.72, 25.06, 24.66, 24.99, 24.58]"
   ]
  },
  {
   "cell_type": "code",
   "execution_count": null,
   "metadata": {},
   "outputs": [],
   "source": [
    "len(my_t)"
   ]
  },
  {
   "cell_type": "code",
   "execution_count": null,
   "metadata": {},
   "outputs": [],
   "source": [
    "import requests\n",
    "import time\n",
    "\n",
    "for i in range(len(my_t)):\n",
    "    \n",
    "    print('---- %s ----' %(i))\n",
    "    print('H=%s %%, T=%s degree' %(my_h[i], my_t[i]))\n",
    "    \n",
    "    # push data\n",
    "    # field1: T\n",
    "    # field2: H\n",
    "    url = 'https://api.thingspeak.com/update'\n",
    "    api_key = 'RD1VBDRERV09LPV4'\n",
    "    field1 = my_t[i]\n",
    "    field2 = my_h[i]\n",
    "    data = {'api_key': api_key, 'field1':field1, 'field2':field2}\n",
    "    r = requests.get(url, params=data)\n",
    "    print(r)\n",
    "    \n",
    "    time.sleep(15)\n",
    "    "
   ]
  },
  {
   "cell_type": "markdown",
   "metadata": {},
   "source": [
    "----\n",
    "\n",
    "## The End !?\n",
    "\n",
    "----\n"
   ]
  },
  {
   "cell_type": "markdown",
   "metadata": {},
   "source": [
    "### 接著就是UI, UX工程師，資料分析工程師的事了!?\n",
    "    \n",
    "資料分析不只是資料分析工程師的事\n"
   ]
  },
  {
   "cell_type": "markdown",
   "metadata": {},
   "source": [
    "### 未來各種AI功能可能都會變成Plug-in的物件\n",
    "\n",
    "舉例來說：\n",
    "\n",
    "- 拼裝車、修車的技士\n",
    "\n",
    "- 電機儀器的維修工程師\n",
    "\n",
    "- 金屬加工機的電控工程師\n",
    "\n",
    "- 未來可能會出現AI調校工程師\n"
   ]
  },
  {
   "cell_type": "markdown",
   "metadata": {},
   "source": [
    "----\n",
    "\n",
    "## Q&A\n",
    "\n",
    "----"
   ]
  }
 ],
 "metadata": {
  "kernelspec": {
   "display_name": "Python 3",
   "language": "python",
   "name": "python3"
  },
  "language_info": {
   "codemirror_mode": {
    "name": "ipython",
    "version": 3
   },
   "file_extension": ".py",
   "mimetype": "text/x-python",
   "name": "python",
   "nbconvert_exporter": "python",
   "pygments_lexer": "ipython3",
   "version": "3.7.4"
  }
 },
 "nbformat": 4,
 "nbformat_minor": 4
}
